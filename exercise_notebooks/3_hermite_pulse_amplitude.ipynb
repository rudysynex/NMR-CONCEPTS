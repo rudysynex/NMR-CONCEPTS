{
 "cells": [
  {
   "cell_type": "code",
   "execution_count": null,
   "id": "7cbc9e21",
   "metadata": {},
   "outputs": [],
   "source": [
    "import numpy as np\n",
    "import matplotlib.pyplot as plt"
   ]
  },
  {
   "cell_type": "markdown",
   "id": "c3b981db",
   "metadata": {},
   "source": [
    "## Common pulse parameters"
   ]
  },
  {
   "cell_type": "code",
   "execution_count": null,
   "id": "d5371ffc",
   "metadata": {},
   "outputs": [],
   "source": [
    "pulse_length = 1000  # pulse duration in us\n",
    "shape_pts = 256  # number of points in the pulse shape\n",
    "freq_offset = 0  # offset frequency in Hz\n",
    "init_ph = 0      # initial phase in degrees\n",
    "\n",
    "# Time resolution\n",
    "time_res = pulse_length / (shape_pts)\n",
    "# Actual time axis (to be used for plotting)\n",
    "time = np.arange(0, pulse_length, time_res)\n",
    "# Define apparent time, from -1 to +1\n",
    "t_vec = np.linspace(-1, 1, shape_pts)"
   ]
  },
  {
   "cell_type": "markdown",
   "id": "04d8d363",
   "metadata": {},
   "source": [
    "## Pulse shape specific parameters"
   ]
  },
  {
   "cell_type": "code",
   "execution_count": null,
   "id": "8d4e8e37",
   "metadata": {},
   "outputs": [],
   "source": [
    "nutation_angle = 90  # 90 or 180. Nutation angle for Hermite pulse"
   ]
  },
  {
   "cell_type": "markdown",
   "id": "79793dfa",
   "metadata": {},
   "source": [
    "## Generate the shaped pulse"
   ]
  },
  {
   "cell_type": "code",
   "execution_count": null,
   "id": "72f1fd13",
   "metadata": {},
   "outputs": [],
   "source": [
    "# Define the shape\n",
    "if nutation_angle == 90:\n",
    "    rf_waveform = (1.0 - 6.003 * t_vec * t_vec) * np.exp(\n",
    "        -9.0 * t_vec * t_vec\n",
    "    )\n",
    "elif nutation_angle == 180:\n",
    "    rf_waveform = (1.0 - 8.604 * t_vec * t_vec) * np.exp(\n",
    "        -9.0 * t_vec * t_vec\n",
    "    )\n",
    "else:\n",
    "    print(\"nutation_angle can only be 90 or 180\")\n",
    "\n",
    "# Normalize so that max val. is 1\n",
    "rf_form = rf_waveform / np.amax(rf_waveform)\n",
    "\n",
    "\n",
    "# The phase modulation part below is not necessary for this exercise,\n",
    "# but is required to use the pulse on a device\n",
    "phs_mod = np.zeros(shape_pts)\n",
    "for idx in range(shape_pts):\n",
    "    if rf_waveform[idx] < 0:\n",
    "        phs_mod[idx] = 180\n",
    "    else:\n",
    "        phs_mod[idx] = 0\n",
    "\n",
    "# Add initial phase offset\n",
    "phs_mod = phs_mod + init_ph"
   ]
  },
  {
   "cell_type": "markdown",
   "id": "3f1d5ace",
   "metadata": {},
   "source": [
    "## Plot the shape"
   ]
  },
  {
   "cell_type": "code",
   "execution_count": null,
   "id": "f62124cc",
   "metadata": {},
   "outputs": [],
   "source": [
    "plt.plot(time, rf_waveform)\n",
    "plt.xlabel(\"time (us)\")\n",
    "plt.ylabel(\"Normalized amplitude\")\n",
    "plt.grid()"
   ]
  },
  {
   "cell_type": "markdown",
   "id": "372494b5",
   "metadata": {},
   "source": [
    "## Reference Hard 90 Pulse\n",
    "### to use for pulse integral calculation"
   ]
  },
  {
   "cell_type": "code",
   "execution_count": null,
   "id": "8daded70",
   "metadata": {},
   "outputs": [],
   "source": [
    "reference_rf_waveform = np.linspace(1, 1, len(rf_waveform))\n",
    "reference_90_dur = 10  # duration of calibrated 90 hard pulse, in microsecs\n",
    "reference_90_amp = 0  # amplitude in dB\n",
    "\n",
    "reference_90_khz = np.round((1 / (4 * reference_90_dur * 1e-3)), 4)"
   ]
  },
  {
   "cell_type": "markdown",
   "id": "6502dbf8",
   "metadata": {},
   "source": [
    "## Pulse integral calculation"
   ]
  },
  {
   "cell_type": "code",
   "execution_count": null,
   "id": "49ad1b85",
   "metadata": {},
   "outputs": [],
   "source": [
    "pulse_integ = np.round((np.trapz(rf_waveform) / np.trapz(reference_rf_waveform)), 4)\n",
    "print(f\"The Pulse-integral for the shaped pulse is {pulse_integ}\")"
   ]
  },
  {
   "cell_type": "markdown",
   "id": "2e3b950c",
   "metadata": {},
   "source": [
    "## Calculate power in dB"
   ]
  },
  {
   "cell_type": "code",
   "execution_count": null,
   "id": "bd63f586",
   "metadata": {},
   "outputs": [],
   "source": [
    "# shaped RF amp in kHz, assuming a 90 deg. flip angle\n",
    "rf_amp_khz = 90 / (360 * pulse_integ * pulse_length * 1e-3)\n",
    "\n",
    "rf_amp_dB =  np.round((reference_90_amp + 20 * np.log10(rf_amp_khz / reference_90_khz)), 2)\n",
    "print(f\"The required power for the shaped pulse is {rf_amp_dB} dB\")"
   ]
  }
 ],
 "metadata": {
  "kernelspec": {
   "display_name": "base",
   "language": "python",
   "name": "python3"
  },
  "language_info": {
   "codemirror_mode": {
    "name": "ipython",
    "version": 3
   },
   "file_extension": ".py",
   "mimetype": "text/x-python",
   "name": "python",
   "nbconvert_exporter": "python",
   "pygments_lexer": "ipython3",
   "version": "3.12.4"
  }
 },
 "nbformat": 4,
 "nbformat_minor": 5
}
